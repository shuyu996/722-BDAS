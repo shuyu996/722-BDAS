{
 "cells": [
  {
   "cell_type": "code",
   "execution_count": 3,
   "metadata": {},
   "outputs": [],
   "source": [
    "import findspark\n",
    "findspark.init('/home/ubuntu/spark-2.1.1-bin-hadoop2.7')\n",
    "import pyspark\n",
    "from pyspark.sql import SparkSession\n",
    "spark = SparkSession.builder.appName('722_BDAS').getOrCreate()"
   ]
  },
  {
   "cell_type": "code",
   "execution_count": 2,
   "metadata": {},
   "outputs": [],
   "source": [
    "df1 = spark.read.load('movies.csv', format=\"csv\", header=\"true\")"
   ]
  },
  {
   "cell_type": "code",
   "execution_count": 3,
   "metadata": {},
   "outputs": [
    {
     "name": "stdout",
     "output_type": "stream",
     "text": [
      "(34208, 3)\n"
     ]
    }
   ],
   "source": [
    "print((df1.count(),len(df1.columns)))"
   ]
  },
  {
   "cell_type": "code",
   "execution_count": 4,
   "metadata": {},
   "outputs": [
    {
     "data": {
      "text/plain": [
       "Row(movieId='1', title='Toy Story (1995)', genres='Adventure|Animation|Children|Comedy|Fantasy')"
      ]
     },
     "execution_count": 4,
     "metadata": {},
     "output_type": "execute_result"
    }
   ],
   "source": [
    "df1.head()"
   ]
  },
  {
   "cell_type": "code",
   "execution_count": 5,
   "metadata": {},
   "outputs": [],
   "source": [
    "df2 = spark.read.load('ratings.csv', format=\"csv\", header=\"true\")"
   ]
  },
  {
   "cell_type": "code",
   "execution_count": 6,
   "metadata": {},
   "outputs": [
    {
     "name": "stdout",
     "output_type": "stream",
     "text": [
      "(848518, 3)\n"
     ]
    }
   ],
   "source": [
    "print((df2.count(),len(df2.columns)))"
   ]
  },
  {
   "cell_type": "code",
   "execution_count": 7,
   "metadata": {},
   "outputs": [
    {
     "data": {
      "text/plain": [
       "Row(movieId='8336', rating='3.5', timestamp='1196958394')"
      ]
     },
     "execution_count": 7,
     "metadata": {},
     "output_type": "execute_result"
    }
   ],
   "source": [
    "df2.head()"
   ]
  },
  {
   "cell_type": "code",
   "execution_count": 8,
   "metadata": {},
   "outputs": [],
   "source": [
    "df3 = spark.read.load('tags.csv', format=\"csv\", header=\"true\")"
   ]
  },
  {
   "cell_type": "code",
   "execution_count": 9,
   "metadata": {},
   "outputs": [
    {
     "name": "stdout",
     "output_type": "stream",
     "text": [
      "(286997, 3)\n"
     ]
    }
   ],
   "source": [
    "print((df3.count(),len(df3.columns)))"
   ]
  },
  {
   "cell_type": "code",
   "execution_count": 10,
   "metadata": {},
   "outputs": [
    {
     "data": {
      "text/plain": [
       "Row(userId='126559', movieId='78445', tag='war')"
      ]
     },
     "execution_count": 10,
     "metadata": {},
     "output_type": "execute_result"
    }
   ],
   "source": [
    "df3.head()"
   ]
  },
  {
   "cell_type": "code",
   "execution_count": 11,
   "metadata": {},
   "outputs": [],
   "source": [
    "df4 = spark.read.load('links.csv', format=\"csv\", header=\"true\")"
   ]
  },
  {
   "cell_type": "code",
   "execution_count": 12,
   "metadata": {},
   "outputs": [
    {
     "name": "stdout",
     "output_type": "stream",
     "text": [
      "(34208, 3)\n"
     ]
    }
   ],
   "source": [
    "print((df4.count(),len(df4.columns)))"
   ]
  },
  {
   "cell_type": "code",
   "execution_count": 16,
   "metadata": {},
   "outputs": [
    {
     "data": {
      "text/plain": [
       "Row(movieId='1', imdbId='0114709', tmdbId='862')"
      ]
     },
     "execution_count": 16,
     "metadata": {},
     "output_type": "execute_result"
    }
   ],
   "source": [
    "df4.head()"
   ]
  },
  {
   "cell_type": "code",
   "execution_count": 72,
   "metadata": {},
   "outputs": [
    {
     "name": "stdout",
     "output_type": "stream",
     "text": [
      "+-------+--------------------+--------------------+\n",
      "|movieId|              genres|               title|\n",
      "+-------+--------------------+--------------------+\n",
      "|      1|Adventure|Animati...|    Toy Story (1995)|\n",
      "|      2|Adventure|Childre...|      Jumanji (1995)|\n",
      "|      3|      Comedy|Romance|Grumpier Old Men ...|\n",
      "|      4|Comedy|Drama|Romance|Waiting to Exhale...|\n",
      "|      5|              Comedy|Father of the Bri...|\n",
      "|      6|Action|Crime|Thri...|         Heat (1995)|\n",
      "|      7|      Comedy|Romance|      Sabrina (1995)|\n",
      "|      8|  Adventure|Children| Tom and Huck (1995)|\n",
      "|      9|              Action| Sudden Death (1995)|\n",
      "|     10|Action|Adventure|...|    GoldenEye (1995)|\n",
      "|     11|Comedy|Drama|Romance|American Presiden...|\n",
      "|     12|       Comedy|Horror|Dracula: Dead and...|\n",
      "|     13|Adventure|Animati...|        Balto (1995)|\n",
      "|     14|               Drama|        Nixon (1995)|\n",
      "|     15|Action|Adventure|...|Cutthroat Island ...|\n",
      "|     16|         Crime|Drama|       Casino (1995)|\n",
      "|     17|       Drama|Romance|Sense and Sensibi...|\n",
      "|     18|              Comedy|   Four Rooms (1995)|\n",
      "|     19|              Comedy|Ace Ventura: When...|\n",
      "|     20|Action|Comedy|Cri...|  Money Train (1995)|\n",
      "+-------+--------------------+--------------------+\n",
      "only showing top 20 rows\n",
      "\n"
     ]
    }
   ],
   "source": [
    "df1.select('movieId','genres', 'title').show()"
   ]
  },
  {
   "cell_type": "code",
   "execution_count": 73,
   "metadata": {},
   "outputs": [
    {
     "name": "stdout",
     "output_type": "stream",
     "text": [
      "+-------+------+----------+\n",
      "|movieId|rating| timestamp|\n",
      "+-------+------+----------+\n",
      "|   8336|   3.5|1196958394|\n",
      "|   8360|     3|1196959710|\n",
      "|   8711|     3|1196958159|\n",
      "|   3296|     5| 951505114|\n",
      "|   3298|     3| 952186273|\n",
      "|   3299|     1| 951504983|\n",
      "|   3301|     4| 951505144|\n",
      "|    110|     3|1446572162|\n",
      "|    260|     3|1446572079|\n",
      "|    293|   4.5|1446572146|\n",
      "|    318|     5|1446572066|\n",
      "|    356|     5|1446572206|\n",
      "|    589|     5|1446572149|\n",
      "|   1196|     3|1446572081|\n",
      "|   1198|     3|1446572086|\n",
      "|   1210|     3|1446572095|\n",
      "|   1240|     5|1446572209|\n",
      "|   2571|     4|1446572060|\n",
      "|   3578|   4.5|1446572216|\n",
      "|   5952|     4|1446572227|\n",
      "+-------+------+----------+\n",
      "only showing top 20 rows\n",
      "\n"
     ]
    }
   ],
   "source": [
    "df2.select('movieId','rating', 'timestamp').show()"
   ]
  },
  {
   "cell_type": "code",
   "execution_count": 74,
   "metadata": {},
   "outputs": [
    {
     "name": "stdout",
     "output_type": "stream",
     "text": [
      "+------+-------+-------------------+\n",
      "|userId|movieId|                tag|\n",
      "+------+-------+-------------------+\n",
      "|126559|  78445|                war|\n",
      "|126559|  78574|             acting|\n",
      "|126559|  78574|       authenticity|\n",
      "|126559|  79132|     cinematography|\n",
      "|126559|  79132|             dreams|\n",
      "|126559|  79132|            surreal|\n",
      "|126559|  79132|  thought-provoking|\n",
      "|126559|  79242|               cute|\n",
      "|126559|  79242|           humorous|\n",
      "|126559|  79588|     cinematography|\n",
      "|126559|  79702|                dry|\n",
      "|126559|  79702| visually appealing|\n",
      "|126559|  79723|          authentic|\n",
      "|126559|  79723|             subtle|\n",
      "|126559|  80549|              witty|\n",
      "|126559|  80693|underdeveloped plot|\n",
      "|126559|  80969|     cinematography|\n",
      "|126559|  80969|         disturbing|\n",
      "|126559|  80969|       great acting|\n",
      "|126559|  80969|         metaphoric|\n",
      "+------+-------+-------------------+\n",
      "only showing top 20 rows\n",
      "\n"
     ]
    }
   ],
   "source": [
    "df3.select('userId', 'movieId', 'tag').show()"
   ]
  },
  {
   "cell_type": "code",
   "execution_count": 75,
   "metadata": {},
   "outputs": [
    {
     "name": "stdout",
     "output_type": "stream",
     "text": [
      "+-------+-------+------+\n",
      "|movieId| imdbId|tmdbId|\n",
      "+-------+-------+------+\n",
      "|      1|0114709|   862|\n",
      "|      2|0113497|  8844|\n",
      "|      3|0113228| 15602|\n",
      "|      4|0114885| 31357|\n",
      "|      5|0113041| 11862|\n",
      "|      6|0113277|   949|\n",
      "|      7|0114319| 11860|\n",
      "|      8|0112302| 45325|\n",
      "|      9|0114576|  9091|\n",
      "|     10|0113189|   710|\n",
      "|     11|0112346|  9087|\n",
      "|     12|0112896| 12110|\n",
      "|     13|0112453| 21032|\n",
      "|     14|0113987| 10858|\n",
      "|     15|0112760|  1408|\n",
      "|     16|0112641|   524|\n",
      "|     17|0114388|  4584|\n",
      "|     18|0113101|     5|\n",
      "|     19|0112281|  9273|\n",
      "|     20|0113845| 11517|\n",
      "+-------+-------+------+\n",
      "only showing top 20 rows\n",
      "\n"
     ]
    }
   ],
   "source": [
    "df4.select('movieId', 'imdbId','tmdbId').show()"
   ]
  },
  {
   "cell_type": "code",
   "execution_count": 76,
   "metadata": {},
   "outputs": [
    {
     "data": {
      "text/plain": [
       "[('movieId', 'string'), ('title', 'string'), ('genres', 'string')]"
      ]
     },
     "execution_count": 76,
     "metadata": {},
     "output_type": "execute_result"
    }
   ],
   "source": [
    "df1.dtypes"
   ]
  },
  {
   "cell_type": "code",
   "execution_count": 77,
   "metadata": {},
   "outputs": [
    {
     "data": {
      "text/plain": [
       "[('movieId', 'string'), ('rating', 'string'), ('timestamp', 'string')]"
      ]
     },
     "execution_count": 77,
     "metadata": {},
     "output_type": "execute_result"
    }
   ],
   "source": [
    "df2.dtypes"
   ]
  },
  {
   "cell_type": "code",
   "execution_count": 78,
   "metadata": {},
   "outputs": [
    {
     "data": {
      "text/plain": [
       "[('userId', 'string'), ('movieId', 'string'), ('tag', 'string')]"
      ]
     },
     "execution_count": 78,
     "metadata": {},
     "output_type": "execute_result"
    }
   ],
   "source": [
    "df3.dtypes"
   ]
  },
  {
   "cell_type": "code",
   "execution_count": 79,
   "metadata": {},
   "outputs": [
    {
     "data": {
      "text/plain": [
       "[('movieId', 'string'), ('imdbId', 'string'), ('tmdbId', 'string')]"
      ]
     },
     "execution_count": 79,
     "metadata": {},
     "output_type": "execute_result"
    }
   ],
   "source": [
    "df4.dtypes"
   ]
  },
  {
   "cell_type": "code",
   "execution_count": 80,
   "metadata": {},
   "outputs": [
    {
     "data": {
      "text/plain": [
       "[('movieId', 'string'), ('title', 'string'), ('genres', 'string')]"
      ]
     },
     "execution_count": 80,
     "metadata": {},
     "output_type": "execute_result"
    }
   ],
   "source": [
    "df1.dtypes"
   ]
  },
  {
   "cell_type": "code",
   "execution_count": 81,
   "metadata": {},
   "outputs": [
    {
     "data": {
      "text/plain": [
       "[('movieId', 'string'), ('rating', 'string'), ('timestamp', 'string')]"
      ]
     },
     "execution_count": 81,
     "metadata": {},
     "output_type": "execute_result"
    }
   ],
   "source": [
    "df2.dtypes"
   ]
  },
  {
   "cell_type": "code",
   "execution_count": 82,
   "metadata": {},
   "outputs": [
    {
     "data": {
      "text/plain": [
       "[('userId', 'string'), ('movieId', 'string'), ('tag', 'string')]"
      ]
     },
     "execution_count": 82,
     "metadata": {},
     "output_type": "execute_result"
    }
   ],
   "source": [
    "df3.dtypes"
   ]
  },
  {
   "cell_type": "code",
   "execution_count": 83,
   "metadata": {},
   "outputs": [
    {
     "data": {
      "text/plain": [
       "[('movieId', 'string'), ('imdbId', 'string'), ('tmdbId', 'string')]"
      ]
     },
     "execution_count": 83,
     "metadata": {},
     "output_type": "execute_result"
    }
   ],
   "source": [
    "df4.dtypes"
   ]
  },
  {
   "cell_type": "code",
   "execution_count": 84,
   "metadata": {},
   "outputs": [
    {
     "name": "stdout",
     "output_type": "stream",
     "text": [
      "root\n",
      " |-- movieId: string (nullable = true)\n",
      " |-- title: string (nullable = true)\n",
      " |-- genres: string (nullable = true)\n",
      "\n"
     ]
    }
   ],
   "source": [
    "df1.printSchema()"
   ]
  },
  {
   "cell_type": "code",
   "execution_count": 85,
   "metadata": {},
   "outputs": [
    {
     "name": "stdout",
     "output_type": "stream",
     "text": [
      "root\n",
      " |-- movieId: string (nullable = true)\n",
      " |-- rating: string (nullable = true)\n",
      " |-- timestamp: string (nullable = true)\n",
      "\n"
     ]
    }
   ],
   "source": [
    "df2.printSchema()"
   ]
  },
  {
   "cell_type": "code",
   "execution_count": 86,
   "metadata": {},
   "outputs": [
    {
     "name": "stdout",
     "output_type": "stream",
     "text": [
      "root\n",
      " |-- userId: string (nullable = true)\n",
      " |-- movieId: string (nullable = true)\n",
      " |-- tag: string (nullable = true)\n",
      "\n"
     ]
    }
   ],
   "source": [
    "df3.printSchema()"
   ]
  },
  {
   "cell_type": "code",
   "execution_count": 87,
   "metadata": {},
   "outputs": [
    {
     "name": "stdout",
     "output_type": "stream",
     "text": [
      "root\n",
      " |-- movieId: string (nullable = true)\n",
      " |-- imdbId: string (nullable = true)\n",
      " |-- tmdbId: string (nullable = true)\n",
      "\n"
     ]
    }
   ],
   "source": [
    "df4.printSchema()"
   ]
  },
  {
   "cell_type": "code",
   "execution_count": 66,
   "metadata": {},
   "outputs": [],
   "source": [
    "from pyspark.sql.types import (StructField,StringType,IntegerType,DoubleType,FloatType,StructType,)"
   ]
  },
  {
   "cell_type": "code",
   "execution_count": 67,
   "metadata": {},
   "outputs": [],
   "source": [
    "data_schema=[StructField(\"movieId\", IntegerType(), True),\n",
    "             StructField(\"title\", StringType(), True),\n",
    "             StructField(\"genres\",StringType(), True),\n",
    "]\n",
    "final_struct=StructType(fields=data_schema)\n",
    "df1= spark.read.load('movies.csv', format=\"csv\", header=\"true\",schema=final_struct)"
   ]
  },
  {
   "cell_type": "code",
   "execution_count": 68,
   "metadata": {},
   "outputs": [],
   "source": [
    "data_schema=[StructField(\"movieId\", IntegerType(), True),\n",
    "             StructField(\"rating\", DoubleType(), True),\n",
    "             StructField(\"timestamp\",IntegerType(), True),                        \n",
    "]\n",
    "final_struct=StructType(fields=data_schema)\n",
    "df2= spark.read.load('ratings.csv', format=\"csv\", header=\"true\",schema=final_struct)"
   ]
  },
  {
   "cell_type": "code",
   "execution_count": 69,
   "metadata": {},
   "outputs": [],
   "source": [
    "data_schema=[\n",
    "             StructField(\"movieId\", IntegerType(), True),\n",
    "             StructField(\"userId\", IntegerType(), True),\n",
    "             StructField(\"tags\",StringType(), True),\n",
    "                      \n",
    "]\n",
    "final_struct=StructType(fields=data_schema)\n",
    "df3= spark.read.load('tags.csv', format=\"csv\", header=\"true\",schema=final_struct)"
   ]
  },
  {
   "cell_type": "code",
   "execution_count": 70,
   "metadata": {},
   "outputs": [],
   "source": [
    "data_schema=[StructField(\"movieId\", IntegerType(), True),\n",
    "             StructField(\"imdbId\", IntegerType(), True),\n",
    "             StructField(\"tmdbId\", FloatType(), True),                \n",
    "]\n",
    "final_struct=StructType(fields=data_schema)\n",
    "df4= spark.read.load('links.csv', format=\"csv\", header=\"true\",schema=final_struct)"
   ]
  },
  {
   "cell_type": "code",
   "execution_count": 71,
   "metadata": {},
   "outputs": [
    {
     "data": {
      "text/plain": [
       "[('movieId', 'int'), ('title', 'string'), ('genres', 'string')]"
      ]
     },
     "execution_count": 71,
     "metadata": {},
     "output_type": "execute_result"
    }
   ],
   "source": [
    "df1.dtypes"
   ]
  },
  {
   "cell_type": "code",
   "execution_count": 72,
   "metadata": {},
   "outputs": [
    {
     "data": {
      "text/plain": [
       "[('movieId', 'int'), ('rating', 'double'), ('timestamp', 'int')]"
      ]
     },
     "execution_count": 72,
     "metadata": {},
     "output_type": "execute_result"
    }
   ],
   "source": [
    "df2.dtypes"
   ]
  },
  {
   "cell_type": "code",
   "execution_count": 73,
   "metadata": {},
   "outputs": [
    {
     "data": {
      "text/plain": [
       "[('movieId', 'int'), ('userId', 'int'), ('tags', 'string')]"
      ]
     },
     "execution_count": 73,
     "metadata": {},
     "output_type": "execute_result"
    }
   ],
   "source": [
    "df3.dtypes"
   ]
  },
  {
   "cell_type": "code",
   "execution_count": 74,
   "metadata": {},
   "outputs": [
    {
     "data": {
      "text/plain": [
       "[('movieId', 'int'), ('imdbId', 'int'), ('tmdbId', 'float')]"
      ]
     },
     "execution_count": 74,
     "metadata": {},
     "output_type": "execute_result"
    }
   ],
   "source": [
    "df4.dtypes"
   ]
  },
  {
   "cell_type": "code",
   "execution_count": 75,
   "metadata": {},
   "outputs": [],
   "source": [
    "from pyspark.sql.functions import mean, min, max,stddev"
   ]
  },
  {
   "cell_type": "code",
   "execution_count": 76,
   "metadata": {},
   "outputs": [
    {
     "name": "stdout",
     "output_type": "stream",
     "text": [
      "+-------+-----------------+--------------------+------------------+\n",
      "|summary|          movieId|               title|            genres|\n",
      "+-------+-----------------+--------------------+------------------+\n",
      "|  count|            34208|               34208|             34208|\n",
      "|   mean|75585.57144527596|                null|              null|\n",
      "| stddev|50726.05423761983|                null|              null|\n",
      "|    min|                1|\"\"\"Great Performa...|(no genres listed)|\n",
      "|    max|           151711|         貞子3D (2012)|           Western|\n",
      "+-------+-----------------+--------------------+------------------+\n",
      "\n"
     ]
    }
   ],
   "source": [
    "df1.describe().show()"
   ]
  },
  {
   "cell_type": "code",
   "execution_count": 77,
   "metadata": {},
   "outputs": [
    {
     "name": "stdout",
     "output_type": "stream",
     "text": [
      "+-------+------------------+------------------+--------------------+\n",
      "|summary|           movieId|            rating|           timestamp|\n",
      "+-------+------------------+------------------+--------------------+\n",
      "|  count|            848518|            848518|              848518|\n",
      "|   mean| 12165.09113065368|3.5054989994319508|1.1335122076810627E9|\n",
      "| stddev|25182.979990696607|1.0708902590494411|1.8477823066686037E8|\n",
      "|    min|                 1|               0.5|           822873600|\n",
      "|    max|            151507|               5.0|          1454049935|\n",
      "+-------+------------------+------------------+--------------------+\n",
      "\n"
     ]
    }
   ],
   "source": [
    "df2.describe().show()"
   ]
  },
  {
   "cell_type": "code",
   "execution_count": 78,
   "metadata": {},
   "outputs": [
    {
     "name": "stdout",
     "output_type": "stream",
     "text": [
      "+-------+-----------------+-----------------+-------------------+\n",
      "|summary|          movieId|           userId|               tags|\n",
      "+-------+-----------------+-----------------+-------------------+\n",
      "|  count|           286997|           286997|             286997|\n",
      "|   mean|184090.1317992871|34689.70701435903|3.512494771783296E7|\n",
      "| stddev|34065.36074504454|38707.34234954809|7.390662643227483E8|\n",
      "|    min|           126559|                1|  !David O. Russell|\n",
      "|    max|           247753|           151701|      沈�?1447214734|\n",
      "+-------+-----------------+-----------------+-------------------+\n",
      "\n"
     ]
    }
   ],
   "source": [
    "df3.describe().show()"
   ]
  },
  {
   "cell_type": "code",
   "execution_count": 79,
   "metadata": {},
   "outputs": [
    {
     "name": "stdout",
     "output_type": "stream",
     "text": [
      "+-------+-----------------+-----------------+-----------------+\n",
      "|summary|          movieId|           imdbId|           tmdbId|\n",
      "+-------+-----------------+-----------------+-----------------+\n",
      "|  count|            34208|            34208|            33912|\n",
      "|   mean|75585.57144527596|742860.3218253041| 80517.8517338995|\n",
      "| stddev|50726.05423761983|991721.9858393299|85948.09014653743|\n",
      "|    min|                1|                3|              2.0|\n",
      "|    max|           151711|          5290524|         379689.0|\n",
      "+-------+-----------------+-----------------+-----------------+\n",
      "\n"
     ]
    }
   ],
   "source": [
    "df4.describe().show()"
   ]
  },
  {
   "cell_type": "code",
   "execution_count": 93,
   "metadata": {},
   "outputs": [
    {
     "name": "stdout",
     "output_type": "stream",
     "text": [
      "Reading package lists... Done\n",
      "Building dependency tree       \n",
      "Reading state information... Done\n",
      "The following packages were automatically installed and are no longer required:\n",
      "  linux-aws-headers-4.4.0-1062 linux-headers-4.4.0-1062-aws\n",
      "  linux-image-4.4.0-1062-aws\n",
      "Use 'sudo apt autoremove' to remove them.\n",
      "The following additional packages will be installed:\n",
      "  blt fonts-lyx javascript-common libblas-common libblas3 libgfortran3\n",
      "  libglade2-0 libjs-jquery libjs-jquery-ui liblapack3 libpython-stdlib\n",
      "  libpython2.7-minimal libpython2.7-stdlib libtcl8.6 libtk8.6 libwebp5\n",
      "  libwebpmux1 libxft2 libxss1 python python-cairo python-cycler\n",
      "  python-dateutil python-glade2 python-gobject-2 python-gtk2 python-imaging\n",
      "  python-matplotlib-data python-minimal python-numpy python-pil\n",
      "  python-pyparsing python-six python-tk python-tz python2.7 python2.7-minimal\n",
      "  tk8.6-blt2.5 ttf-bitstream-vera\n",
      "Suggested packages:\n",
      "  blt-demo apache2 | lighttpd | httpd libjs-jquery-ui-docs tcl8.6 tk8.6\n",
      "  python-doc python-gtk2-doc python-gobject-2-dbg dvipng ffmpeg gir1.2-gtk-3.0\n",
      "  ghostscript inkscape ipython librsvg2-common python-cairocffi\n",
      "  python-configobj python-excelerator python-gobject python-matplotlib-doc\n",
      "  python-nose python-qt4 python-scipy python-sip python-tornado python-traits\n",
      "  python-wxgtk3.0 texlive-extra-utils texlive-latex-extra ttf-staypuft\n",
      "  gfortran python-dev python-numpy-dbg python-numpy-doc python-pil-doc\n",
      "  python-pil-dbg tix python-tk-dbg python2.7-doc binfmt-support\n",
      "The following NEW packages will be installed:\n",
      "  blt fonts-lyx javascript-common libblas-common libblas3 libgfortran3\n",
      "  libglade2-0 libjs-jquery libjs-jquery-ui liblapack3 libpython-stdlib\n",
      "  libpython2.7-minimal libpython2.7-stdlib libtcl8.6 libtk8.6 libwebp5\n",
      "  libwebpmux1 libxft2 libxss1 python python-cairo python-cycler\n",
      "  python-dateutil python-glade2 python-gobject-2 python-gtk2 python-imaging\n",
      "  python-matplotlib python-matplotlib-data python-minimal python-numpy\n",
      "  python-pil python-pyparsing python-six python-tk python-tz python2.7\n",
      "  python2.7-minimal tk8.6-blt2.5 ttf-bitstream-vera\n",
      "0 upgraded, 40 newly installed, 0 to remove and 91 not upgraded.\n",
      "Need to get 19.2 MB of archives.\n",
      "After this operation, 72.9 MB of additional disk space will be used.\n",
      "Do you want to continue? [Y/n] ^C\n"
     ]
    }
   ],
   "source": [
    "!sudo apt-get install python-matplotlib"
   ]
  },
  {
   "cell_type": "code",
   "execution_count": 94,
   "metadata": {},
   "outputs": [
    {
     "name": "stdout",
     "output_type": "stream",
     "text": [
      "Reading package lists... Done\n",
      "Building dependency tree       \n",
      "Reading state information... Done\n",
      "The following packages were automatically installed and are no longer required:\n",
      "  linux-aws-headers-4.4.0-1062 linux-headers-4.4.0-1062-aws\n",
      "  linux-image-4.4.0-1062-aws\n",
      "Use 'sudo apt autoremove' to remove them.\n",
      "The following additional packages will be installed:\n",
      "  blt fonts-lyx javascript-common libaec0 libamd2.4.1 libblas-common libblas3\n",
      "  libcolamd2.9.1 libdsdp-5.8gf libfftw3-double3 libgfortran3 libglade2-0\n",
      "  libglpk36 libgsl2 libhdf5-10 libjs-jquery libjs-jquery-ui liblapack3\n",
      "  libltdl7 libpython-dev libpython-stdlib libpython2.7 libpython2.7-dev\n",
      "  libpython2.7-minimal libpython2.7-stdlib libsnappy1v5\n",
      "  libsuitesparseconfig4.4.6 libsz2 libtcl8.6 libtk8.6 libwebp5 libwebpmux1\n",
      "  libxft2 libxss1 python python-antlr python-bs4 python-cairo python-chardet\n",
      "  python-cvxopt python-cycler python-dateutil python-decorator python-dev\n",
      "  python-glade2 python-gobject-2 python-gtk2 python-html5lib python-imaging\n",
      "  python-jdcal python-joblib python-lxml python-matplotlib\n",
      "  python-matplotlib-data python-minimal python-nose python-numexpr\n",
      "  python-numpy python-openpyxl python-pandas python-pandas-lib python-patsy\n",
      "  python-pil python-pkg-resources python-py python-pyparsing python-pytest\n",
      "  python-scipy python-simplejson python-six python-statsmodels\n",
      "  python-statsmodels-lib python-tables python-tables-data python-tables-lib\n",
      "  python-tk python-tz python-xlrd python-xlwt python2.7 python2.7-dev\n",
      "  python2.7-minimal tk8.6-blt2.5 ttf-bitstream-vera\n",
      "Suggested packages:\n",
      "  blt-demo apache2 | lighttpd | httpd libfftw3-bin libfftw3-dev libiodbc2-dev\n",
      "  libmysqlclient-dev gsl-ref-psdoc | gsl-doc-pdf | gsl-doc-info | gsl-ref-html\n",
      "  libjs-jquery-ui-docs tcl8.6 tk8.6 python-doc python-gtk2-doc\n",
      "  python-gobject-2-dbg python-genshi python-lxml-dbg python-lxml-doc dvipng\n",
      "  ffmpeg gir1.2-gtk-3.0 ghostscript inkscape ipython librsvg2-common\n",
      "  python-cairocffi python-configobj python-excelerator python-gobject\n",
      "  python-matplotlib-doc python-qt4 python-sip python-tornado python-traits\n",
      "  python-wxgtk3.0 texlive-extra-utils texlive-latex-extra ttf-staypuft\n",
      "  python-coverage python-nose-doc gfortran python-numpy-dbg python-numpy-doc\n",
      "  python-pandas-doc python-patsy-doc python-pil-doc python-pil-dbg\n",
      "  python-setuptools subversion python-pytest-xdist python-mock\n",
      "  python-scipy-doc python-statsmodels-doc python-tables-doc python-netcdf\n",
      "  vitables tix python-tk-dbg python2.7-doc binfmt-support\n",
      "The following NEW packages will be installed:\n",
      "  blt fonts-lyx javascript-common libaec0 libamd2.4.1 libblas-common libblas3\n",
      "  libcolamd2.9.1 libdsdp-5.8gf libfftw3-double3 libgfortran3 libglade2-0\n",
      "  libglpk36 libgsl2 libhdf5-10 libjs-jquery libjs-jquery-ui liblapack3\n",
      "  libltdl7 libpython-dev libpython-stdlib libpython2.7 libpython2.7-dev\n",
      "  libpython2.7-minimal libpython2.7-stdlib libsnappy1v5\n",
      "  libsuitesparseconfig4.4.6 libsz2 libtcl8.6 libtk8.6 libwebp5 libwebpmux1\n",
      "  libxft2 libxss1 python python-antlr python-bs4 python-cairo python-chardet\n",
      "  python-cvxopt python-cycler python-dateutil python-decorator python-dev\n",
      "  python-glade2 python-gobject-2 python-gtk2 python-html5lib python-imaging\n",
      "  python-jdcal python-joblib python-lxml python-matplotlib\n",
      "  python-matplotlib-data python-minimal python-nose python-numexpr\n",
      "  python-numpy python-openpyxl python-pandas python-pandas-lib python-patsy\n",
      "  python-pil python-pkg-resources python-py python-pyparsing python-pytest\n",
      "  python-scipy python-seaborn python-simplejson python-six python-statsmodels\n",
      "  python-statsmodels-lib python-tables python-tables-data python-tables-lib\n",
      "  python-tk python-tz python-xlrd python-xlwt python2.7 python2.7-dev\n",
      "  python2.7-minimal tk8.6-blt2.5 ttf-bitstream-vera\n",
      "0 upgraded, 85 newly installed, 0 to remove and 91 not upgraded.\n",
      "Need to get 71.5 MB of archives.\n",
      "After this operation, 226 MB of additional disk space will be used.\n",
      "Do you want to continue? [Y/n] ^C\n"
     ]
    }
   ],
   "source": [
    "!sudo apt-get install python-seaborn"
   ]
  },
  {
   "cell_type": "code",
   "execution_count": 97,
   "metadata": {},
   "outputs": [],
   "source": [
    "import matplotlib.pyplot as plt"
   ]
  },
  {
   "cell_type": "code",
   "execution_count": 98,
   "metadata": {},
   "outputs": [],
   "source": [
    "import numpy as npimport seaborn as sns"
   ]
  },
  {
   "cell_type": "code",
   "execution_count": 1,
   "metadata": {},
   "outputs": [],
   "source": [
    "import seaborn as sns"
   ]
  },
  {
   "cell_type": "code",
   "execution_count": 82,
   "metadata": {},
   "outputs": [
    {
     "data": {
      "text/plain": [
       "['movieId', 'imdbId', 'tmdbId']"
      ]
     },
     "execution_count": 82,
     "metadata": {},
     "output_type": "execute_result"
    }
   ],
   "source": [
    "df4.columns"
   ]
  },
  {
   "cell_type": "code",
   "execution_count": 16,
   "metadata": {},
   "outputs": [],
   "source": [
    "from pyspark.sql.functions import isnan, when, count,col"
   ]
  },
  {
   "cell_type": "code",
   "execution_count": 17,
   "metadata": {},
   "outputs": [
    {
     "name": "stdout",
     "output_type": "stream",
     "text": [
      "+-------+-----+------+\n",
      "|movieId|title|genres|\n",
      "+-------+-----+------+\n",
      "|      0|    0|     0|\n",
      "+-------+-----+------+\n",
      "\n"
     ]
    }
   ],
   "source": [
    "df1.select([count(when(isnan(c)|col(c).isNull(),c)).alias(c) for c in df1.columns]).show()"
   ]
  },
  {
   "cell_type": "code",
   "execution_count": 18,
   "metadata": {},
   "outputs": [
    {
     "name": "stdout",
     "output_type": "stream",
     "text": [
      "+-------+------+---------+\n",
      "|movieId|rating|timestamp|\n",
      "+-------+------+---------+\n",
      "|      0|     0|        0|\n",
      "+-------+------+---------+\n",
      "\n"
     ]
    }
   ],
   "source": [
    "df2.select([count(when(isnan(c)|col(c).isNull(),c)).alias(c) for c in df2.columns]).show()"
   ]
  },
  {
   "cell_type": "code",
   "execution_count": 19,
   "metadata": {},
   "outputs": [
    {
     "name": "stdout",
     "output_type": "stream",
     "text": [
      "+------+-------+---+\n",
      "|userId|movieId|tag|\n",
      "+------+-------+---+\n",
      "|     0|      0|  0|\n",
      "+------+-------+---+\n",
      "\n"
     ]
    }
   ],
   "source": [
    "df3.select([count(when(isnan(c)|col(c).isNull(),c)).alias(c) for c in df3.columns]).show()"
   ]
  },
  {
   "cell_type": "code",
   "execution_count": 20,
   "metadata": {},
   "outputs": [
    {
     "name": "stdout",
     "output_type": "stream",
     "text": [
      "+-------+------+\n",
      "|movieId|imdbId|\n",
      "+-------+------+\n",
      "|      0|     0|\n",
      "+-------+------+\n",
      "\n"
     ]
    }
   ],
   "source": [
    "df4.select([count(when(isnan(c)|col(c).isNull(),c)).alias(c) for c in df4.columns]).show()"
   ]
  },
  {
   "cell_type": "code",
   "execution_count": 21,
   "metadata": {},
   "outputs": [],
   "source": [
    "clean_df3=df3.fillna(0)"
   ]
  },
  {
   "cell_type": "code",
   "execution_count": 22,
   "metadata": {},
   "outputs": [
    {
     "name": "stdout",
     "output_type": "stream",
     "text": [
      "+------+-------+---+\n",
      "|userId|movieId|tag|\n",
      "+------+-------+---+\n",
      "|     0|      0|  0|\n",
      "+------+-------+---+\n",
      "\n"
     ]
    }
   ],
   "source": [
    "clean_df3.select([count(when(isnan(c)|col(c).isNull(),c)).alias(c) for c in clean_df3.columns]).show()"
   ]
  },
  {
   "cell_type": "code",
   "execution_count": 23,
   "metadata": {},
   "outputs": [],
   "source": [
    "from pyspark.sql.functions import isnull"
   ]
  },
  {
   "cell_type": "code",
   "execution_count": 24,
   "metadata": {},
   "outputs": [
    {
     "data": {
      "text/plain": [
       "0"
      ]
     },
     "execution_count": 24,
     "metadata": {},
     "output_type": "execute_result"
    }
   ],
   "source": [
    "df1.filter(isnull('movieId')).count()"
   ]
  },
  {
   "cell_type": "code",
   "execution_count": 25,
   "metadata": {},
   "outputs": [
    {
     "data": {
      "text/plain": [
       "0"
      ]
     },
     "execution_count": 25,
     "metadata": {},
     "output_type": "execute_result"
    }
   ],
   "source": [
    "df1.filter(isnull('title')).count()"
   ]
  },
  {
   "cell_type": "code",
   "execution_count": 26,
   "metadata": {},
   "outputs": [
    {
     "data": {
      "text/plain": [
       "0"
      ]
     },
     "execution_count": 26,
     "metadata": {},
     "output_type": "execute_result"
    }
   ],
   "source": [
    "df1.filter(isnull('genres')).count()"
   ]
  },
  {
   "cell_type": "code",
   "execution_count": 27,
   "metadata": {},
   "outputs": [
    {
     "data": {
      "text/plain": [
       "0"
      ]
     },
     "execution_count": 27,
     "metadata": {},
     "output_type": "execute_result"
    }
   ],
   "source": [
    "df2.filter(isnull('movieId')).count()"
   ]
  },
  {
   "cell_type": "code",
   "execution_count": 28,
   "metadata": {},
   "outputs": [
    {
     "data": {
      "text/plain": [
       "0"
      ]
     },
     "execution_count": 28,
     "metadata": {},
     "output_type": "execute_result"
    }
   ],
   "source": [
    "df2.filter(isnull('rating')).count()"
   ]
  },
  {
   "cell_type": "code",
   "execution_count": 29,
   "metadata": {},
   "outputs": [
    {
     "data": {
      "text/plain": [
       "0"
      ]
     },
     "execution_count": 29,
     "metadata": {},
     "output_type": "execute_result"
    }
   ],
   "source": [
    "df2.filter(isnull('timestamp')).count()"
   ]
  },
  {
   "cell_type": "code",
   "execution_count": 30,
   "metadata": {},
   "outputs": [
    {
     "data": {
      "text/plain": [
       "0"
      ]
     },
     "execution_count": 30,
     "metadata": {},
     "output_type": "execute_result"
    }
   ],
   "source": [
    "df3.filter(isnull('userId')).count()"
   ]
  },
  {
   "cell_type": "code",
   "execution_count": 31,
   "metadata": {},
   "outputs": [
    {
     "data": {
      "text/plain": [
       "0"
      ]
     },
     "execution_count": 31,
     "metadata": {},
     "output_type": "execute_result"
    }
   ],
   "source": [
    "df3.filter(isnull('movieId')).count()"
   ]
  },
  {
   "cell_type": "code",
   "execution_count": 32,
   "metadata": {},
   "outputs": [
    {
     "data": {
      "text/plain": [
       "0"
      ]
     },
     "execution_count": 32,
     "metadata": {},
     "output_type": "execute_result"
    }
   ],
   "source": [
    "df3.filter(isnull('tag')).count()"
   ]
  },
  {
   "cell_type": "code",
   "execution_count": 33,
   "metadata": {},
   "outputs": [
    {
     "data": {
      "text/plain": [
       "0"
      ]
     },
     "execution_count": 33,
     "metadata": {},
     "output_type": "execute_result"
    }
   ],
   "source": [
    "df4.filter(isnull('movieId')).count()"
   ]
  },
  {
   "cell_type": "code",
   "execution_count": 34,
   "metadata": {},
   "outputs": [
    {
     "data": {
      "text/plain": [
       "0"
      ]
     },
     "execution_count": 34,
     "metadata": {},
     "output_type": "execute_result"
    }
   ],
   "source": [
    "df4.filter(isnull('imdbId')).count()"
   ]
  },
  {
   "cell_type": "code",
   "execution_count": 35,
   "metadata": {},
   "outputs": [
    {
     "data": {
      "text/plain": [
       "296"
      ]
     },
     "execution_count": 35,
     "metadata": {},
     "output_type": "execute_result"
    }
   ],
   "source": [
    "df4.filter(isnull('tmdbId')).count()"
   ]
  },
  {
   "cell_type": "code",
   "execution_count": 36,
   "metadata": {},
   "outputs": [],
   "source": [
    "df5 = df1.join(df2,on='movieId')"
   ]
  },
  {
   "cell_type": "code",
   "execution_count": 37,
   "metadata": {},
   "outputs": [],
   "source": [
    "df6 = df3.join(df4,on='movieId')"
   ]
  },
  {
   "cell_type": "code",
   "execution_count": 38,
   "metadata": {},
   "outputs": [],
   "source": [
    "df= df5.join(df6,on='movieId')"
   ]
  },
  {
   "cell_type": "code",
   "execution_count": 29,
   "metadata": {},
   "outputs": [
    {
     "name": "stdout",
     "output_type": "stream",
     "text": [
      "+-------+--------------------+--------------+------+----------+------+------------------+-------+\n",
      "|movieId|               title|        genres|rating| timestamp|userId|               tag| imdbId|\n",
      "+-------+--------------------+--------------+------+----------+------+------------------+-------+\n",
      "| 100553|Frozen Planet (2011)|   Documentary|     5|1442067970|159840|            nature|2092588|\n",
      "| 100553|Frozen Planet (2011)|   Documentary|   4.5|1451091115|159840|            nature|2092588|\n",
      "| 100553|Frozen Planet (2011)|   Documentary|   0.5|1428874637|159840|            nature|2092588|\n",
      "| 100553|Frozen Planet (2011)|   Documentary|   2.5|1440337719|159840|            nature|2092588|\n",
      "| 102684|Only God Forgives...|Drama|Thriller|     5|1451272679|131893|      Black comedy|1602613|\n",
      "| 102684|Only God Forgives...|Drama|Thriller|     5|1451272679|131893|     Hallucinatory|1602613|\n",
      "| 102684|Only God Forgives...|Drama|Thriller|     5|1451272679|131893|         Muay thai|1602613|\n",
      "| 102684|Only God Forgives...|Drama|Thriller|     5|1451272679|131893|          violence|1602613|\n",
      "| 102684|Only God Forgives...|Drama|Thriller|     5|1451272679|134941|beautifully filmed|1602613|\n",
      "| 102684|Only God Forgives...|Drama|Thriller|     5|1451272679|134941|      Ryan Gosling|1602613|\n",
      "| 102684|Only God Forgives...|Drama|Thriller|     5|1451272679|134941|        soundtrack|1602613|\n",
      "| 102684|Only God Forgives...|Drama|Thriller|     5|1451272679|134941|    ultra-violence|1602613|\n",
      "| 102684|Only God Forgives...|Drama|Thriller|     5|1451272679|136862|beautifully filmed|1602613|\n",
      "| 102684|Only God Forgives...|Drama|Thriller|     5|1451272679|136862|             music|1602613|\n",
      "| 102684|Only God Forgives...|Drama|Thriller|     5|1451272679|136862|        soundtrack|1602613|\n",
      "| 102684|Only God Forgives...|Drama|Thriller|     5|1451272679|136862| stylized violence|1602613|\n",
      "| 102684|Only God Forgives...|Drama|Thriller|     5|1451272679|139611|              2014|1602613|\n",
      "| 102684|Only God Forgives...|Drama|Thriller|     5|1451272679|152692|      Ryan Gosling|1602613|\n",
      "| 102684|Only God Forgives...|Drama|Thriller|     5|1451272679|152692|        slow paced|1602613|\n",
      "| 102684|Only God Forgives...|Drama|Thriller|     5|1451272679|152692|          stylized|1602613|\n",
      "+-------+--------------------+--------------+------+----------+------+------------------+-------+\n",
      "only showing top 20 rows\n",
      "\n"
     ]
    }
   ],
   "source": [
    "df.show()"
   ]
  },
  {
   "cell_type": "code",
   "execution_count": 126,
   "metadata": {},
   "outputs": [
    {
     "name": "stdout",
     "output_type": "stream",
     "text": [
      "+------+\n",
      "|rating|\n",
      "+------+\n",
      "|     5|\n",
      "|   4.5|\n",
      "|   0.5|\n",
      "|   2.5|\n",
      "|     5|\n",
      "|     5|\n",
      "|     5|\n",
      "|     5|\n",
      "|     5|\n",
      "|     5|\n",
      "|     5|\n",
      "|     5|\n",
      "|     5|\n",
      "|     5|\n",
      "|     5|\n",
      "|     5|\n",
      "|     5|\n",
      "|     5|\n",
      "|     5|\n",
      "|     5|\n",
      "+------+\n",
      "only showing top 20 rows\n",
      "\n"
     ]
    }
   ],
   "source": [
    "df.select(\"rating\").show()"
   ]
  },
  {
   "cell_type": "code",
   "execution_count": 43,
   "metadata": {},
   "outputs": [
    {
     "data": {
      "text/plain": [
       "[('movieId', 'string'),\n",
       " ('title', 'string'),\n",
       " ('genres', 'string'),\n",
       " ('rating', 'string'),\n",
       " ('timestamp', 'string'),\n",
       " ('userId', 'string'),\n",
       " ('tag', 'string'),\n",
       " ('imdbId', 'string')]"
      ]
     },
     "execution_count": 43,
     "metadata": {},
     "output_type": "execute_result"
    }
   ],
   "source": [
    "df.dtypes"
   ]
  },
  {
   "cell_type": "code",
   "execution_count": 46,
   "metadata": {},
   "outputs": [],
   "source": [
    "from pyspark.sql import functions"
   ]
  },
  {
   "cell_type": "code",
   "execution_count": 47,
   "metadata": {},
   "outputs": [],
   "source": [
    "df= df.withColumn('Rate',  functions.lit(df['rating']/5))"
   ]
  },
  {
   "cell_type": "code",
   "execution_count": 48,
   "metadata": {},
   "outputs": [
    {
     "name": "stdout",
     "output_type": "stream",
     "text": [
      "+-------+--------------------+--------------+------+----------+------+------------------+-------+----+\n",
      "|movieId|               title|        genres|rating| timestamp|userId|               tag| imdbId|Rate|\n",
      "+-------+--------------------+--------------+------+----------+------+------------------+-------+----+\n",
      "| 100553|Frozen Planet (2011)|   Documentary|     5|1442067970|159840|            nature|2092588| 1.0|\n",
      "| 100553|Frozen Planet (2011)|   Documentary|   4.5|1451091115|159840|            nature|2092588| 0.9|\n",
      "| 100553|Frozen Planet (2011)|   Documentary|   0.5|1428874637|159840|            nature|2092588| 0.1|\n",
      "| 100553|Frozen Planet (2011)|   Documentary|   2.5|1440337719|159840|            nature|2092588| 0.5|\n",
      "| 102684|Only God Forgives...|Drama|Thriller|     5|1451272679|131893|      Black comedy|1602613| 1.0|\n",
      "| 102684|Only God Forgives...|Drama|Thriller|     5|1451272679|131893|     Hallucinatory|1602613| 1.0|\n",
      "| 102684|Only God Forgives...|Drama|Thriller|     5|1451272679|131893|         Muay thai|1602613| 1.0|\n",
      "| 102684|Only God Forgives...|Drama|Thriller|     5|1451272679|131893|          violence|1602613| 1.0|\n",
      "| 102684|Only God Forgives...|Drama|Thriller|     5|1451272679|134941|beautifully filmed|1602613| 1.0|\n",
      "| 102684|Only God Forgives...|Drama|Thriller|     5|1451272679|134941|      Ryan Gosling|1602613| 1.0|\n",
      "| 102684|Only God Forgives...|Drama|Thriller|     5|1451272679|134941|        soundtrack|1602613| 1.0|\n",
      "| 102684|Only God Forgives...|Drama|Thriller|     5|1451272679|134941|    ultra-violence|1602613| 1.0|\n",
      "| 102684|Only God Forgives...|Drama|Thriller|     5|1451272679|136862|beautifully filmed|1602613| 1.0|\n",
      "| 102684|Only God Forgives...|Drama|Thriller|     5|1451272679|136862|             music|1602613| 1.0|\n",
      "| 102684|Only God Forgives...|Drama|Thriller|     5|1451272679|136862|        soundtrack|1602613| 1.0|\n",
      "| 102684|Only God Forgives...|Drama|Thriller|     5|1451272679|136862| stylized violence|1602613| 1.0|\n",
      "| 102684|Only God Forgives...|Drama|Thriller|     5|1451272679|139611|              2014|1602613| 1.0|\n",
      "| 102684|Only God Forgives...|Drama|Thriller|     5|1451272679|152692|      Ryan Gosling|1602613| 1.0|\n",
      "| 102684|Only God Forgives...|Drama|Thriller|     5|1451272679|152692|        slow paced|1602613| 1.0|\n",
      "| 102684|Only God Forgives...|Drama|Thriller|     5|1451272679|152692|          stylized|1602613| 1.0|\n",
      "+-------+--------------------+--------------+------+----------+------+------------------+-------+----+\n",
      "only showing top 20 rows\n",
      "\n"
     ]
    }
   ],
   "source": [
    "df.show()"
   ]
  },
  {
   "cell_type": "code",
   "execution_count": 49,
   "metadata": {},
   "outputs": [
    {
     "data": {
      "text/plain": [
       "[('movieId', 'string'),\n",
       " ('title', 'string'),\n",
       " ('genres', 'string'),\n",
       " ('rating', 'string'),\n",
       " ('timestamp', 'string'),\n",
       " ('userId', 'string'),\n",
       " ('tag', 'string'),\n",
       " ('imdbId', 'string'),\n",
       " ('Rate', 'double')]"
      ]
     },
     "execution_count": 49,
     "metadata": {},
     "output_type": "execute_result"
    }
   ],
   "source": [
    "df.dtypes"
   ]
  },
  {
   "cell_type": "code",
   "execution_count": 56,
   "metadata": {},
   "outputs": [
    {
     "name": "stdout",
     "output_type": "stream",
     "text": [
      "+----+\n",
      "|Rate|\n",
      "+----+\n",
      "| 1.0|\n",
      "| 0.9|\n",
      "| 0.1|\n",
      "| 0.5|\n",
      "| 1.0|\n",
      "| 1.0|\n",
      "| 1.0|\n",
      "| 1.0|\n",
      "| 1.0|\n",
      "| 1.0|\n",
      "| 1.0|\n",
      "| 1.0|\n",
      "| 1.0|\n",
      "| 1.0|\n",
      "| 1.0|\n",
      "| 1.0|\n",
      "| 1.0|\n",
      "| 1.0|\n",
      "| 1.0|\n",
      "| 1.0|\n",
      "+----+\n",
      "only showing top 20 rows\n",
      "\n"
     ]
    }
   ],
   "source": [
    "df.select(\"Rate\").show()"
   ]
  },
  {
   "cell_type": "code",
   "execution_count": 60,
   "metadata": {},
   "outputs": [],
   "source": [
    "df_integrated[\"title\"]=pl.fit_transform(df_integrated[\"title\"])"
   ]
  },
  {
   "cell_type": "code",
   "execution_count": 61,
   "metadata": {},
   "outputs": [],
   "source": [
    "df_integrated[\"genres\"]=pl.fit_transform(df_integrated[\"genres\"])"
   ]
  },
  {
   "cell_type": "code",
   "execution_count": 62,
   "metadata": {},
   "outputs": [],
   "source": [
    "df_integrated[\"tags\"]=pl.fit_transform(df_integrated[\"tags\"])"
   ]
  },
  {
   "cell_type": "code",
   "execution_count": 63,
   "metadata": {},
   "outputs": [],
   "source": [
    "df_integrated.info()"
   ]
  },
  {
   "cell_type": "code",
   "execution_count": 65,
   "metadata": {},
   "outputs": [
    {
     "name": "stdout",
     "output_type": "stream",
     "text": [
      "title: ['Shelter Island (2011)' '99 Homes (2014)' 'Turbo Kid (2015)'\n",
      " 'Paranormal Activity: The Ghost Dimension (2015)' 'Feng Shui (2004)'\n",
      " 'To Sir, with Love II (1996)' 'Preservation (2014)' 'Unfriended (2014)'\n",
      " 'Victor Frankenstein (2015)' 'Blockade (1938)'\n",
      " 'The Exorcism of Molly Hartley (2015)' 'Fort Tilden (2014)'\n",
      " 'Thought Crimes (2015)' 'Tintin and I (2003)' 'The Loft (2014)'\n",
      " 'Journey Into Fear (1975)' 'Spectre (2015)'\n",
      " 'Scooby-Doo on Zombie Island (1998)' 'Dragon Blade (2015)'\n",
      " 'Good Kill (2014)' 'Intern, The (2015)' \"While We're Young (2014)\"\n",
      " 'Youth (2015)' 'Ivory Tower (2014)'\n",
      " 'Drew: The Man Behind the Poster (2013)'\n",
      " 'Comedy Central Roast of Pamela Anderson (2005)' 'Cinderella (2015)'\n",
      " 'Hansel & Gretel: Warriors of Witchcraft (2013)' 'Brother Bear 2 (2006)'\n",
      " 'Confessions of a Dangerous Mind (2002)' 'One Minute Time Machine (2014)'\n",
      " 'Antarctica: A Year On Ice (2013)'\n",
      " 'Hurricane of Fun: The Making of Wet Hot (2015)' 'Chloe and Theo (2015)'\n",
      " 'Buster and Billie (1974)' 'Exaella (2011)' 'Ground Zero (1987)'\n",
      " \"Mike Birbiglia: My Girlfriend's Boyfriend (2013)\"\n",
      " 'Seymour: An Introduction (2014)' 'Close to My Heart (1951)'\n",
      " 'The Good Dinosaur (2015)' 'SuperBob (2015)' 'Call Me Lucky (2015)'\n",
      " \"I'll See You in My Dreams (2015)\"\n",
      " \"The Lumière Brothers' First Films (1996)\" 'The Longest Ride (2015)'\n",
      " 'Entourage (2015)' 'Actress (2014)' 'The Lost Room (2006)'\n",
      " 'Aferim! (2015)' 'War Story (2014)' 'Monsters: Dark Continent (2014)'\n",
      " 'Freedom Riders (2010)' 'Vice (2015)' 'Lascars (2009)'\n",
      " 'The Lawyer (1970)']\n",
      "genres: ['(no genres listed)' 'Drama' 'Action|Adventure|Sci-Fi' 'Horror|Thriller'\n",
      " 'Drama|Horror|Thriller' 'Horror|Mystery|Thriller' 'Drama|Horror|Sci-Fi'\n",
      " 'Drama|War' 'Horror' 'Comedy' 'Documentary' 'Thriller'\n",
      " 'Action|Adventure|Crime' 'Animation|Children|Comedy|Mystery'\n",
      " 'Action|Adventure|Drama' 'Comedy|Drama' 'Children|Drama|Fantasy|Romance'\n",
      " 'Adventure|Animation|Children|Comedy|Fantasy'\n",
      " 'Comedy|Crime|Drama|Romance|Thriller' 'Comedy|Mystery|Romance'\n",
      " 'Adventure|Documentary' 'Crime|Drama' 'Action|Animation|Drama|Sci-Fi'\n",
      " 'Animation|Children|Comedy' 'Action|Comedy|Romance' 'Drama|Romance'\n",
      " 'Action|Fantasy|Mystery' 'Drama|Sci-Fi|Thriller'\n",
      " 'Action|Adventure|Sci-Fi|Thriller' 'Animation|Comedy']\n",
      "tags: ['1930s' 'gangsters' '1920s' 'beautiful' 'Leonardo DiCaprio' 'disturbing'\n",
      " 'drama' 'fairy tale' 'funny' 'quirky' 'romance' 'adapted from book'\n",
      " 'witty' 'social commentary' 'hugh grant' 'soundtrack' 'cinematography'\n",
      " 'thought-provoking' 'Strong Women' 'natalie portman' 'james marsden'\n",
      " 'justin long' 'vulnerability' 'boring plot' 'mindfuck' 'adam sandler'\n",
      " 'Brendan Fraser' 'music' 'rock' 'comedy' 'god' 'jim carey'\n",
      " 'Daniel Radcliffe' 'Emma Watson' 'not true to the book' 'autism'\n",
      " 'coming of age' 'dystopia' 'metaphorical' 'bittersweet' 'cheating'\n",
      " 'steroids' 'alcoholic' 'classic sci-fi' 'space adventure' 'space war'\n",
      " 'Argentina' 'based on a book' 'excellent acting' 'excellent script'\n",
      " 'good comedy' 'love' 'nostalgic' 'rape' 'revenge' 'Ricardo Darin'\n",
      " 'Spanish' 'suspenso' 'Italy' 'action' 'vcr in clpgh'\n",
      " 'netflix instant watching' 'chick flick' 'space program' 'stephan king'\n",
      " 'Special effects' 'off-beat comedy' 'Disney' 'netflixq' 'great acting'\n",
      " 'hitman' 'history' 'Tom Hanks' 'Vietnam' 'based on book' 'compassionate'\n",
      " 'native americans' 'US history' 'war' 'Buddy movie' 'car chase'\n",
      " 'music business' 'neo-Nazis' 'road movie' 'surreal' 'India' 'Nazis'\n",
      " 'Steven Spielberg' 'colonialism' 'Exceptional Acting' 'Johnny Depp'\n",
      " 'literary adaptation' 'cyberpunk' 'philosophy' 'post apocalyptic'\n",
      " 'Al Pacino' 'corruption' 'organized crime' 'teen' 'adapted from:book'\n",
      " 'atmospheric' 'awesome soundtrack' 'original plot' 'scenic' 'gangs'\n",
      " 'South America' 'flying pigs' 'aliens' 'teens' 'Classic' 'Roald Dahl'\n",
      " 'classic' 'time travel' 'Mike Myers' 'Michael J. Fox'\n",
      " 'based around one thing' 'stuck' 'Meg Ryan' 'Drew Barrymore'\n",
      " 'Reese Witherspoon' 'Foreign film' 'based around one item' 'Heath Ledger'\n",
      " 'Foreign themes' 'religion' 'Anne Hathaway' 'magic' 'based on tv series'\n",
      " 'based around one theme' 'sci fi' 'Animals' 'cult film' 'sci-fi' 'space'\n",
      " 'all star cast' 'good dialogue' 'violence' 'tearful' 'gap commercial'\n",
      " 'EPIC' 'space opera'\n",
      " 'A fun introduction to the epic film series which will keep you on the edge of your seat during the good vs evil battles.  Fantastic special effects, incredible characters and futuristic landscapes.'\n",
      " 'Science Fiction' 'Jason Statham' 'anti-war' 'mythical' 'brad pitt'\n",
      " 'high school' 'teen movie' 'storytelling' 'friendship' 'heartwarming'\n",
      " 'hope' 'inspirational' 'justice' 'redemption' 'sentimental'\n",
      " 'twist ending' 'artificial intelligence' 'robots' 'slow' 'stylized'\n",
      " 'childhood classics' 'christmas' 'family' 'nostalgia' 'Anthony Hopkins'\n",
      " 'Hannibal Lecter' 'investigation' 'Jodie Foster' 'mental illness'\n",
      " 'psychological' 'psychology' 'suspense' 'suspenseful' 'tense'\n",
      " 'cinderella' 'girlie movie' 'Good Romantic Comedies' 'adoption'\n",
      " 'feel-good' 'tear jerker' 'courtroom' 'courtroom drama'\n",
      " 'group psychology' 'Henry Fonda' 'low budget' 'boring' 'dull' 'overrated'\n",
      " 'existentialism' 'self discovery' 'boston' 'college' 'genius'\n",
      " 'Great Screenplays' 'mathematics' 'Matt Damon' 'mentor' 'Robin Williams'\n",
      " 'university' 'based on a true story' 'historical' 'love story'\n",
      " 'shipwreck' 'survival' 'true story' 'Jack Nicholson' 'Ben Stiller'\n",
      " 'Cameron Diaz' 'crude humor' 'fun' 'goofy' 'hilarious' 'sexual'\n",
      " 'coming-of-age' 'whodunit' 'office' 'workplace' 'clever' 'French'\n",
      " 'Gross-out' 'sexuality' 'teen comedy' 'Teen movie' 'teenager'\n",
      " 'kevin spacey' 'midlife crisis' 'Christmas' 'good story' 'inspiring'\n",
      " 'SIBLING RELATIONSHIPS' 'complicated' 'complicated plot' 'memory'\n",
      " 'mystery' 'nonlinear' 'twists & turns' 'France' 'Francis Veber'\n",
      " 'adolescence' 'dark comedy' 'Steve Buscemi' 'art house' 'dreamlike'\n",
      " 'strange' 'visually appealing' 'weird' 'cerebral' 'moralistic' 'cheesy'\n",
      " 'Romance' 'british' 'caper' 'con artists' 'Amazing Cinematography'\n",
      " 'clique' 'High School' 'innocence lost' 'Lindsay Lohan' 'manipulation'\n",
      " 'Tina Fey' 'FIRST LOVE' 'Rachel McAdams' 'romantic' 'Ryan Gosling'\n",
      " 'Steve Carell' 'gore' 'great ending' 'original' 'surprise ending'\n",
      " 'scandal' 'buddy movie' 'Christopher Walken' 'awkward' 'childhood'\n",
      " 'dysfunctional family' 'relationships' '18th century' 'England'\n",
      " 'Keira Knightley' 'heist' 'intelligent thriller' 'Berlin'\n",
      " 'complex characters' 'East Germany' 'Germany' 'spying' 'Stasi'\n",
      " 'surveillance' 'humorous' 'Maggie Gyllenhaal' 'modern fantasy'\n",
      " 'quirky romantic' 'touching' 'Will Ferrell' 'teacher' 'unresolved'\n",
      " 'dreams' 'fanciful' 'fantasy' 'Boston' 'ensemble cast' 'Mafia' 'thriller'\n",
      " 'undercover cop' 'culture clash' 'immigrants' 'pregnancy' 'enjoyable'\n",
      " 'french' 'Bill Hader' 'Coming-Of-Age' 'Emma Stone' 'HIGH SCHOOL LIFE'\n",
      " 'Michael Cera' 'comedy-drama' 'cute' 'emotional'\n",
      " 'I wanted to hug this movie' 'small town' 'sweet' 'well acted'\n",
      " 'Jennifer Garner' 'teen pregnancy' 'teenage pregnancy' 'teenagers'\n",
      " 'too long' 'Hawaii' 'Jason Segel' 'Jonah Hill' 'Kristen Bell'\n",
      " 'Mila Kunis' 'Paul Rudd' 'Seann William Scott' 'classic car' 'ending'\n",
      " 'Jesse Eisenberg' 'Kristen Wiig' 'asperger syndrome' 'cliche' 'airplane'\n",
      " 'airport' 'Anna Kendrick' 'George Clooney' 'loneliness' 'thoughtful'\n",
      " 'travel' 'Vera Farmiga' 'formulaic' 'Islam' 'Muslims' 'Satire' 'silly'\n",
      " 'based on a comic' 'fight scenes' 'geek' 'geeks' 'geeky' 'video games'\n",
      " 'Andrew Garfield' 'Justin Timberlake' 'ballet' 'dance'\n",
      " 'adolescent psychology' 'Julianne Moore' 'romantic comedy' 'baseball'\n",
      " 'sports' 'underdog' 'cancer' 'unrealistic therapist' 'disability'\n",
      " 'awkward situations' 'depression' 'Suicide' 'Bradley Cooper' 'dark humor'\n",
      " 'great characters' 'Jennifer Lawrence' 'Robert De Niro' 'Immature'\n",
      " 'lacks substance' 'not funny' 'story' 'foster care' 'Foster Home'\n",
      " 'mental health' 'realistic' 'unrealistic' 'Joseph Gordon-Levitt'\n",
      " 'Scarlett Johansson' '3-hours of sex and drugs' 'Anti-Hero' 'drugs'\n",
      " 'greed' 'prostitution' 'Stock Market' 'Wall Street'\n",
      " 'Human Computer Interaction' 'joaquin phoenix' 'philosophical'\n",
      " 'transhumanism' 'teenage romance' 'parody' 'Rosamund Pike'\n",
      " 'self-deprecating' 'cowboy' 'hat' 'punch' 'Paul Newman'\n",
      " 'Oscar (Best Picture)' 'Polish movie' 'Denzel Washington'\n",
      " 'Pierce Brosnan' 'polish movie' '\"\"\"\"\"\"\"retrofitted\"\"\"\" future\"\"\"'\n",
      " 'old FX quality' 'dark' 'crime' 'Disturbing' 'Pixar' 'short' 'twist'\n",
      " 'serial killer' 'computer hacker' 'diplomacy' 'freedom of information'\n",
      " 'shocking' 'too sweet' 'child abuse' 'bleak' 'occasionally boring'\n",
      " 'sappy' 'AI' 'Touching' 'orphan' 'psychological torment' 'Dan Aykroyd'\n",
      " 'War' 'WWII' 'mutants' 'warrior' 'Benicio Del Toro' 'imdb top 250'\n",
      " 'George Lucas' 'Harrison Ford' 'Star Wars' 'starship pilots'\n",
      " 'Black comedy' 'awesome zombie flick' 'Best gore/horror movie ever'\n",
      " 'campy' 'So funny' 'Peter Jackson' 'really bad' 'black comedy' 'horror'\n",
      " 'zombies' 'bloody' 'awesome' 'excessive' \"so bad it's funny\"\n",
      " 'sheep zombies' 'Zombies' 'Dumb' 'spoof' 'Steve Martin' 'John Belushi'\n",
      " \"Mozart's music\" 'franchise' 'movie reference jokes' 'only a few jokes'\n",
      " 'Seth Rogen' 'predictable' 'serious topics' 'comedians' 'stand up'\n",
      " 'action, adventure' 'forbidden love' 'space action' 'running'\n",
      " 'starting your own business' 'unrequited love' 'fbi' 'suspence'\n",
      " 'Nudity (Full Frontal - Notable)' 'Nudity (Full Frontal)'\n",
      " 'Christopher Guest' 'rock and roll' 'satire' 'Nudity (Topless - Notable)'\n",
      " 'Nudity (Topless)' 'College Humor' 'R' 'Ryan Reynolds' 'Vince Vaughn'\n",
      " 'Funniest Movies' 'One of the worst movies of all time'\n",
      " 'seen more than once' 'sex' 'sex comedy' 'arms dealer' 'Nicolas Cage'\n",
      " 'Below R' 'Tarantino' 'Nudity (Topless - Brief)' 'Highly quotable'\n",
      " 'pornography' 'virginity' 'Adam Sandler' 'exaggerated'\n",
      " 'Israeli/Palestinian conflict' 'over the top' 'will ferrell' '1960s'\n",
      " 'Bill Nighy' 'meandering' 'Philip Seymour Hoffman' 'pirate radio'\n",
      " 'Zach Galifianakis' 'non-linear' 'stylish' 'violent' 'anti-hippie'\n",
      " 'faux historical' 'psychothriller' 'rewatchable' 'Anders Thomas Jensen'\n",
      " 'Patrick Stewart' 'Joaquin Phoenix' 'M. Night Shyamalan'\n",
      " 'Orriginal screenplay' 'adventure' 'fear' 'medieval' 'Alan Parker'\n",
      " 'dialogue driven' 'reflection' 'video game adaptation'\n",
      " 'computer animation' 'good versus evil' 'scifi cult' 'Kevin Smith'\n",
      " 'view askew' 'india' 'mute girl' 'documentary' 'John Carpenter'\n",
      " 'lovecraftian' 'Ghosts' 'supernatural' 'bruce campbell' 'Sam Raimi'\n",
      " 'TIME TRAVEL' 'Bruce Campbell' 'demons' 'werewolf' 'werewolves'\n",
      " 'Steve McQueen' 'Boris Karloff' 'Universal monsters' 'F.W. Murnau'\n",
      " 'german expressionism' 'vampires' 'David Fincher' 'michael douglas'\n",
      " 'camp' 'slasher' 'Jason Vorhees' 'Donald Pleasence' 'halloween'\n",
      " 'Jamie Lee Curtis' 'stephen king' 'Mia Farrow' 'Roman Polanski'\n",
      " 'WITCHCRAFT' 'Robert Rodriguez' 'cannibalism' 'Leatherface' 'Tobe Hooper'\n",
      " 'haunted house' 'Vincent Price' 'ghosts' 'gothic' 'killer robots'\n",
      " 'Bela Lugosi' 'Tod Browning' 'universal monsters' 'vampire'\n",
      " 'mad scientist' 'shark' 'Atmospheric' 'Bruce Willis' 'm. night shyamalan'\n",
      " 'Edgar Allan Poe' 'Roger Corman' 'roger corman' 'Roddy McDowall'\n",
      " 'H.P. Lovecraft' 'Catherine Deneuve' 'Fred Dekker' 'Creature Feature'\n",
      " 'MST3K' 'island' 'mst3k' 'cult classic' '1980s' 'Dario Argento'\n",
      " 'creature feature' 'Brad Anderson' 'mental hospital' 'Bill Paxton'\n",
      " 'mission from God' 'spiders' 'Bob Clark' 'Amanda Peet' 'John Cusack'\n",
      " 'monster' 'George A. Romero' 'Elvis iconography' 'mummy' 'ventriloquist'\n",
      " 'Giallo' 'Jacques Tourneur' 'Edgar Wright' 'Nick Frost' 'Simon Pegg'\n",
      " 'samurai' 'advertising' 'consumerism' 'alice cooper' 'clowns' 'honest'\n",
      " 'Kevin Bacon' 'Asia Argento' 'alien invasion' 'body horror'\n",
      " 'Elizabeth Banks' 'James Gunn' 'nathan fillion' 'Ellen Page' 'intense'\n",
      " 'Christian Bale' 'Christopher Nolan' 'Hugh Jackman' 'Michael Caine'\n",
      " 'Samuel L. Jackson' 'Stephen King' 'New Zealand' 'Alison Lohman' 'curse'\n",
      " 'Abigail Breslin' 'Woody Harrelson' 'Ti West' 'Alan Tudyk'\n",
      " 'great premise' 'paranormal' 'Drew Goddard' 'joss whedon' 'casino'\n",
      " 'Martin Scorsese' 'narrated' 'multiple storylines' 'Quentin Tarantino'\n",
      " 'Gay Lead Character' 'homosexuality' 'lgbt' 'weak ending' 'disgusting'\n",
      " 'long' 'sweaty' 'BAD special effects' 'Forest Whitaker' 'scientologist'\n",
      " 'stupid' 'fashion' 'macho' 'Michelle Rodriguez' 'Paul Walker' 'racing'\n",
      " 'street race' 'Vin Diesel' 'kidnapping' 'Michael Douglas' 'religious'\n",
      " 'creepy' 'Cars' 'Bill Murray' 'alone in the world' 'apocalypse'\n",
      " 'Empty Planet' 'jealousy' 'last man on earth' 'Post Apocalypse'\n",
      " 'post-apocalyptic' 'Twist Ending' 'Voodoo' 'Airplane' 'hit by car'\n",
      " 'Wes Craven' 'author:Stephen King' 'claustrophobic' 'numbers'\n",
      " 'predictable ending' 'scary' 'setting:hotel'\n",
      " '\"\"\"\"\"\"\"found footage\"\"\"\"\"\"\"' 'infection' 'virus' 'demon possession'\n",
      " 'entertaining' 'multiple endings' 'Realism' 'lesbian' 'Natalie Portman'\n",
      " 'New York City' 'americans in europe' 'car accident' 'conspiracy'\n",
      " 'explosion' 'Liam Neeson' 'mistery' 'cheesy bad' 'sexy protagonist'\n",
      " 'Taylor Lautner' '3D effects' 'animation' 'childish' 'comic book'\n",
      " 'motion capture' 'Planes' 'tension' 'Wes Anderson' 'religious overtones'\n",
      " 'offensive' 'internet' 'masturbation' 'suicide' 'artistic'\n",
      " 'beautiful music' 'class conflict' 'ending kinda ruined it'\n",
      " 'visually stunning' 'self-aware' 'trash' 'cgi' 'performances' 'tom hanks'\n",
      " 'anti-conformity' 'remake' 'Special Effects' 'Jeff Goldblum'\n",
      " 'good science' 'Masterpiece' 'Matthew McConaughey' 'physics'\n",
      " 'female nudity' 'male nudity' 'wasted potential' 'Biblical'\n",
      " 'Logan Lerman' 'preachy' 'psycho environmentalist' 'Russell Crowe'\n",
      " 'unlikeable characters' 'bad plot' 'Dane DeHaan' 'dialogue' 'wtf ending'\n",
      " 'gradual tension' 'special effects' 'Tom Cruise' 'Chris Pratt'\n",
      " 'great soundtrack' 'vasted potential' 'ambitioned' 'Moral'\n",
      " 'can see 100 times no bore at all' 'Kitsch' 'movie of its time'\n",
      " 'one of the best movies ever' 'best horror ever seen' 'brillant artists'\n",
      " 'slow plot' 'very girlish' 'better not see but not so bad after all'\n",
      " 'unusual' 'its a bore' 'now idea why people like this one'\n",
      " 'frightfully good' 'oh so dramatic!' 'too constructed' 'good action'\n",
      " 'good music' 'as bad as the title' 'anstrengend' 'reflective'\n",
      " 'best disney movie' \"so bad it's good\" 'future' 'Nudity (Rear)'\n",
      " 'slow start' 'Underrated' 'mimics documentary-style' 'mockumentary'\n",
      " 'anti-hero' 'futuristic' 'good concept' 'poor character development'\n",
      " 'stranded' 'Clint Eastwood' 'b movie' 'Mars' 'Milla Jovovich'\n",
      " 'resident evil' 'zombie' 'family bonds' 'Mel Gibson' 'moral ambiguity'\n",
      " 'understated' 'Ray Bradbury' 'subversive' 'British' 'catastrophe'\n",
      " 'global warming' 'Jake Gyllenhaal' 'Post apocalyptic' 'Judi Dench'\n",
      " 'british comedy' 'Zooey Deschanel' 'based on a computer game'\n",
      " 'unintentionally funny' 'Jeremy Renner' 'not as good as the first'\n",
      " 'grindhouse' 'sex scene' 'remote location' 'snow' 'Will Smith' 'spanish'\n",
      " 'apocalyptic' 'shallow characters'\n",
      " 'easily confused with other movie(s) (title)' 'Star Trek' 'script'\n",
      " 'psychological thriller' 'racism' 'human harvesting' 'immortality'\n",
      " 'bad acting' 'childhood issues' 'experiments gone awry' 'plot'\n",
      " 'hillbillies' 'poor dialogue' 'search and rescue' 'Unoriginal'\n",
      " 'no nudity' 'stupid ending' 'actually funny' 'Colin Farrell' 'current'\n",
      " 'Jennifer Aniston' 'sexism' 'science fiction' 'Moscow' 'Visual effects'\n",
      " 'documentary style']\n"
     ]
    }
   ],
   "source": [
    "print(\"title:\",df_integrated[\"title\"].unique())\n",
    "print(\"genres:\",df_integrated[\"genres\"].unique())\n",
    "print(\"tags:\",df_integrated[\"tags\"].unique())"
   ]
  },
  {
   "cell_type": "code",
   "execution_count": 4,
   "metadata": {},
   "outputs": [],
   "source": [
    "df_prepared=spark.read.load('df_prepared.csv', format=\"csv\", header=\"true\")"
   ]
  },
  {
   "cell_type": "code",
   "execution_count": 5,
   "metadata": {},
   "outputs": [],
   "source": [
    "columns_to_drop=['imdbId']"
   ]
  },
  {
   "cell_type": "code",
   "execution_count": 6,
   "metadata": {},
   "outputs": [],
   "source": [
    "df_reduce=df_prepared.drop(*columns_to_drop)"
   ]
  },
  {
   "cell_type": "code",
   "execution_count": 7,
   "metadata": {},
   "outputs": [
    {
     "data": {
      "text/plain": [
       "['movieId', 'title', 'genres', 'rating', 'timestamp', 'userId', 'tags', 'Rate']"
      ]
     },
     "execution_count": 7,
     "metadata": {},
     "output_type": "execute_result"
    }
   ],
   "source": [
    "df_reduce.columns"
   ]
  },
  {
   "cell_type": "code",
   "execution_count": 7,
   "metadata": {},
   "outputs": [],
   "source": [
    "df_reduce.toPandas().to_csv(\"df_project.csv\")"
   ]
  },
  {
   "cell_type": "code",
   "execution_count": 11,
   "metadata": {},
   "outputs": [],
   "source": [
    "from pyspark.sql.functions import col"
   ]
  },
  {
   "cell_type": "code",
   "execution_count": 12,
   "metadata": {},
   "outputs": [],
   "source": [
    "from pyspark.sql.functions import log"
   ]
  },
  {
   "cell_type": "code",
   "execution_count": 19,
   "metadata": {},
   "outputs": [],
   "source": [
    "df_project=df_reduce.withColumn(\"log_movieId\",log(col(\"movieId\")+1))"
   ]
  },
  {
   "cell_type": "code",
   "execution_count": 20,
   "metadata": {},
   "outputs": [
    {
     "data": {
      "text/plain": [
       "['movieId',\n",
       " 'title',\n",
       " 'genres',\n",
       " 'rating',\n",
       " 'timestamp',\n",
       " 'userId',\n",
       " 'tags',\n",
       " 'Rate',\n",
       " 'log_movieId']"
      ]
     },
     "execution_count": 20,
     "metadata": {},
     "output_type": "execute_result"
    }
   ],
   "source": [
    "df_project.columns"
   ]
  },
  {
   "cell_type": "code",
   "execution_count": 22,
   "metadata": {},
   "outputs": [
    {
     "name": "stdout",
     "output_type": "stream",
     "text": [
      "+-------+------------------+\n",
      "|movieId|       log_movieId|\n",
      "+-------+------------------+\n",
      "| 136560| 11.82452668023003|\n",
      "| 136560| 11.82452668023003|\n",
      "| 136560| 11.82452668023003|\n",
      "| 136560| 11.82452668023003|\n",
      "| 136560| 11.82452668023003|\n",
      "| 127178|11.753350821918966|\n",
      "| 127178|11.753350821918966|\n",
      "| 127178|11.753350821918966|\n",
      "| 127178|11.753350821918966|\n",
      "| 127178|11.753350821918966|\n",
      "| 127178|11.753350821918966|\n",
      "| 127178|11.753350821918966|\n",
      "| 127178|11.753350821918966|\n",
      "| 127178|11.753350821918966|\n",
      "| 127178|11.753350821918966|\n",
      "| 127178|11.753350821918966|\n",
      "| 127178|11.753350821918966|\n",
      "| 127178|11.753350821918966|\n",
      "| 127178|11.753350821918966|\n",
      "| 127178|11.753350821918966|\n",
      "+-------+------------------+\n",
      "only showing top 20 rows\n",
      "\n"
     ]
    }
   ],
   "source": [
    "df_project.select(\"movieId\",\"log_movieId\").show()"
   ]
  },
  {
   "cell_type": "code",
   "execution_count": 23,
   "metadata": {},
   "outputs": [],
   "source": [
    "df_project.toPandas().to_csv('df_project.csv')"
   ]
  },
  {
   "cell_type": "code",
   "execution_count": 31,
   "metadata": {},
   "outputs": [
    {
     "data": {
      "text/plain": [
       "[('_c0', 'string'),\n",
       " ('movieId', 'string'),\n",
       " ('title', 'string'),\n",
       " ('genres', 'string'),\n",
       " ('rating', 'string'),\n",
       " ('timestamp', 'string'),\n",
       " ('userId', 'string'),\n",
       " ('tags', 'string'),\n",
       " ('Rate', 'string'),\n",
       " ('log_movieId', 'string')]"
      ]
     },
     "execution_count": 31,
     "metadata": {},
     "output_type": "execute_result"
    }
   ],
   "source": [
    "df_project.dtypes"
   ]
  },
  {
   "cell_type": "code",
   "execution_count": 64,
   "metadata": {},
   "outputs": [],
   "source": [
    "import findspark\n",
    "findspark.init('/home/ubuntu/spark-2.1.1-bin-hadoop2.7')\n",
    "import pyspark\n",
    "from pyspark.sql import SparkSession\n",
    "spark = SparkSession.builder.appName('722_BDAS').getOrCreate()"
   ]
  },
  {
   "cell_type": "code",
   "execution_count": 65,
   "metadata": {},
   "outputs": [],
   "source": [
    "df_project= spark.read.load('df_project.csv', format=\"csv\", header=\"true\")\n",
    "columns_to_drop=['_c0']\n",
    "df_project=df_project.drop(*columns_to_drop)"
   ]
  },
  {
   "cell_type": "code",
   "execution_count": 66,
   "metadata": {},
   "outputs": [],
   "source": [
    "from pyspark.sql.types import (StructField,StringType,IntegerType,DoubleType,FloatType,StructType,)"
   ]
  },
  {
   "cell_type": "code",
   "execution_count": 67,
   "metadata": {},
   "outputs": [],
   "source": [
    "data_schema=[StructField(\"movieId\", IntegerType(), True),\n",
    "             StructField(\"title\", IntegerType(), True),\n",
    "             StructField(\"genres\",IntegerType(), True),\n",
    "             StructField(\"rating\", FloatType(), True),\n",
    "             StructField(\"timestamp\",IntegerType(), True),\n",
    "             StructField(\"userId\", IntegerType(), True),\n",
    "             StructField(\"tags\",IntegerType(), True),\n",
    "             StructField(\"Rate\", FloatType(), True),\n",
    "             StructField(\"log_movieId\",IntegerType(), True),\n",
    "             \n",
    "]\n",
    "final_struct=StructType(fields=data_schema)\n",
    "df_project= spark.read.load('df_project.csv', format=\"csv\", header=\"true\",schema=final_struct)"
   ]
  },
  {
   "cell_type": "code",
   "execution_count": 68,
   "metadata": {},
   "outputs": [
    {
     "name": "stdout",
     "output_type": "stream",
     "text": [
      "root\n",
      " |-- movieId: integer (nullable = true)\n",
      " |-- title: integer (nullable = true)\n",
      " |-- genres: integer (nullable = true)\n",
      " |-- rating: float (nullable = true)\n",
      " |-- timestamp: integer (nullable = true)\n",
      " |-- userId: integer (nullable = true)\n",
      " |-- tags: integer (nullable = true)\n",
      " |-- Rate: float (nullable = true)\n",
      " |-- log_movieId: integer (nullable = true)\n",
      "\n",
      "(8251, 9)\n"
     ]
    }
   ],
   "source": [
    "df_project.printSchema()\n",
    "print((df_project.count(),len(df_project.columns)))"
   ]
  },
  {
   "cell_type": "code",
   "execution_count": 43,
   "metadata": {},
   "outputs": [],
   "source": [
    "from pyspark.ml.linalg import Vectors\n",
    "from pyspark.ml.feature import VectorAssembler\n",
    "from pyspark.ml.regression import LinearRegression"
   ]
  },
  {
   "cell_type": "code",
   "execution_count": 44,
   "metadata": {},
   "outputs": [],
   "source": [
    "ass=VectorAssembler(\n",
    "inputCols=[\"movieId\",\"title\",\"genres\",\"rating\",\"timestamp\",\"userId\",\"tags\",\"Rate\",\"log_movieId\"],\n",
    "outputCol=\"features\")"
   ]
  },
  {
   "cell_type": "code",
   "execution_count": 45,
   "metadata": {},
   "outputs": [],
   "source": [
    "output=ass.transform(df_project)"
   ]
  },
  {
   "cell_type": "code",
   "execution_count": 54,
   "metadata": {},
   "outputs": [],
   "source": [
    "df_new=output.select(\"features\",\"movieId\")"
   ]
  },
  {
   "cell_type": "code",
   "execution_count": 20,
   "metadata": {},
   "outputs": [],
   "source": [
    "train_data,test_data=df_new.randomSplit([0.7,0.3])"
   ]
  },
  {
   "cell_type": "code",
   "execution_count": 18,
   "metadata": {},
   "outputs": [
    {
     "data": {
      "text/plain": [
       "<bound method DataFrame.show of DataFrame[features: vector, movieId: int]>"
      ]
     },
     "execution_count": 18,
     "metadata": {},
     "output_type": "execute_result"
    }
   ],
   "source": [
    "train_data.show"
   ]
  },
  {
   "cell_type": "code",
   "execution_count": 20,
   "metadata": {},
   "outputs": [
    {
     "data": {
      "text/plain": [
       "<bound method DataFrame.show of DataFrame[features: vector, movieId: int]>"
      ]
     },
     "execution_count": 20,
     "metadata": {},
     "output_type": "execute_result"
    }
   ],
   "source": [
    "test_data.show"
   ]
  },
  {
   "cell_type": "code",
   "execution_count": 17,
   "metadata": {},
   "outputs": [],
   "source": [
    "Line_elastic=LinearRegression(maxIter=10,regParam=0.3,elasticNetParam=0.8,labelCol='log_movieId')"
   ]
  },
  {
   "cell_type": "code",
   "execution_count": 18,
   "metadata": {},
   "outputs": [],
   "source": [
    "Line_lasso=LinearRegression(maxIter=10,regParam=0.3,elasticNetParam=1,labelCol='log_movieId')"
   ]
  },
  {
   "cell_type": "code",
   "execution_count": 19,
   "metadata": {},
   "outputs": [],
   "source": [
    "Line_ridge=LinearRegression(maxIter=10,regParam=0.3,elasticNetParam=0,labelCol='log_movieId')"
   ]
  },
  {
   "cell_type": "code",
   "execution_count": 3,
   "metadata": {},
   "outputs": [],
   "source": [
    "from pyspark.ml.regression import LinearRegression"
   ]
  },
  {
   "cell_type": "code",
   "execution_count": 4,
   "metadata": {},
   "outputs": [],
   "source": [
    "Line = LinearRegression(labelCol='movieId')\n",
    "LineM=Line.fit(train_data)"
   ]
  },
  {
   "cell_type": "code",
   "execution_count": 10,
   "metadata": {},
   "outputs": [
    {
     "name": "stdout",
     "output_type": "stream",
     "text": [
      "Coefficients: [0.122920668, 7.60619269, 86215229.6, -2.01570864e-06, -0.00014984288, 0.00107799392, -4310762.36, 136805.087] Intercept: -1478160.39665\n"
     ]
    }
   ],
   "source": [
    "print(\"Coefficients:{}Intercept:{}\".FORMAT(LineM.coefficients,LineM.intercept))"
   ]
  },
  {
   "cell_type": "code",
   "execution_count": 12,
   "metadata": {},
   "outputs": [],
   "source": [
    "results_line=LineM.evaluate(test_data)\n",
    "results_line.residuals.show()"
   ]
  },
  {
   "cell_type": "code",
   "execution_count": 8,
   "metadata": {},
   "outputs": [
    {
     "name": "stdout",
     "output_type": "stream",
     "text": [
      "RSME: 1.1322005271870247e-07\n"
     ]
    }
   ],
   "source": [
    "print(\"RSME:{}\".format(results_line.rootMeanSquaredError))"
   ]
  },
  {
   "cell_type": "code",
   "execution_count": 29,
   "metadata": {},
   "outputs": [
    {
     "name": "stdout",
     "output_type": "stream",
     "text": [
      "R2: 0.46137082553\n"
     ]
    }
   ],
   "source": [
    "print(\"R2:{}\".format(results_line.r2))"
   ]
  },
  {
   "cell_type": "code",
   "execution_count": 18,
   "metadata": {},
   "outputs": [
    {
     "name": "stdout",
     "output_type": "stream",
     "text": [
      "Coefficients_lasso: [2.04907024, 7.9597225, 0.0, 1.09564734e-06, -0.000191905549, 0.00175025958, 0.304722257, 133727.747] Intercept_lasso: -1446359.05652\n"
     ]
    }
   ],
   "source": [
    "Line_lasso=LinearRegression(maxIter=10,regParam=0.3,elasticNetParam=1,labelCol='movieId')\n",
    "Line_lassoM=Line_lasso.fit(train_data)\n",
    "print(\"Coefficients_lasso:{}Intercept_lasso:{}\".FORMAT(Line_lassoM.coefficients,Line_lassoM.intercept))"
   ]
  },
  {
   "cell_type": "code",
   "execution_count": 9,
   "metadata": {},
   "outputs": [
    {
     "name": "stdout",
     "output_type": "stream",
     "text": [
      "RSME_lasso: 0.5286644791109063\n"
     ]
    }
   ],
   "source": [
    "print(\"RSME_lasso:{}\".format(results_lasso.rootMeanSquaredError))"
   ]
  },
  {
   "cell_type": "code",
   "execution_count": 21,
   "metadata": {},
   "outputs": [
    {
     "name": "stdout",
     "output_type": "stream",
     "text": [
      "R2_lasso: 0.750717136409\n"
     ]
    }
   ],
   "source": [
    "print(\"R2_lasso:{}\".format(results_lasso.r2))"
   ]
  },
  {
   "cell_type": "code",
   "execution_count": 35,
   "metadata": {},
   "outputs": [
    {
     "name": "stdout",
     "output_type": "stream",
     "text": [
      "+-----------+-------+--------------------+\n",
      "| prediction|movieId|            features|\n",
      "+-----------+-------+--------------------+\n",
      "|144657.1742| 144848|(20,[0,1,2,4,6,7,...|\n",
      "|140107.8778| 140110|(20,[0,1,2,4,6,7,...|\n",
      "| 133976.165| 133747|(20,[0,1,2,4,6,7,...|\n",
      "| 140098.669| 140110|(20,[0,1,2,4,6,7,...|\n",
      "|140116.1425| 140110|(20,[0,1,2,4,6,,9...|\n",
      "|140106.1852| 140110|(20,[0,1,2,4,6,7,...|\n",
      "|140117.2859| 140110|(20,[0,1,2,,6,7,9...|\n",
      "|140106.0754| 140110|(20,[0,1,2,4,6,7,...|\n",
      "| 140108.346| 140110|(20,[0,1,2,4,6,7,...|\n",
      "|140104.1338| 140110|(20,[0,1,2,4,6,7,...|\n",
      "|127106.9705| 127124|(20,[0,2,4,6,7,9,...|\n",
      "| 140098.485| 140110|[200,0,0,0,0,33,3...|\n",
      "|140111.0584| 140110|[200,0,0,0,0,55,4...|\n",
      "|140093.0043| 140110|[200,0,0,0,0,53,3...|\n",
      "|136129.7376| 136016|[200,0,0,0,0,63,3...|\n",
      "|144643.2296| 144848|[200,0,0,0,0,73,3...|\n",
      "|140107.1458| 140110|[200,0,0,0,0,53,3...|\n",
      "|140107.7916| 140110|[200,0,0,0,0,83,3...|\n",
      "|140102.0526| 140110|[200,0,0,0,0,33,3...|\n",
      "|140089.9119| 140110|[200,0,0,0,0,53,3...|\n",
      "+-----------+-------+--------------------+\n",
      "only showing top 20 rows\n",
      "\n"
     ]
    }
   ],
   "source": [
    "Prediction_lasso=LineM.transform(test_data)\n",
    "Prediction_lasso.select(\"prediction\",\"movieId\",\"features\").show()"
   ]
  },
  {
   "cell_type": "code",
   "execution_count": 22,
   "metadata": {},
   "outputs": [
    {
     "name": "stdout",
     "output_type": "stream",
     "text": [
      "Coefficients_ridge: [29.0924548, 9.65102668, 0.793898361, 4.56422507e-05, -0.0711443967, 20.2502751, 15.3013602, 88978.4659] Intercept_ridge: -982698.910897\n"
     ]
    }
   ],
   "source": [
    "Line_ridge=LinearRegression(maxIter=10,regParam=0.3,elasticNetParam=0,labelCol='movieId')\n",
    "Line_ridgeM=Line_ridge.fit(train_data)\n",
    "print(\"Coefficients_ridge:{}Intercept_ridge:{}\".FORMAT(Line_ridgeM.coefficients,Line_ridgeM.intercept))"
   ]
  },
  {
   "cell_type": "code",
   "execution_count": 36,
   "metadata": {},
   "outputs": [
    {
     "name": "stdout",
     "output_type": "stream",
     "text": [
      "+-----------+-------+--------------------+\n",
      "| prediction|movieId|            features|\n",
      "+-----------+-------+--------------------+\n",
      "| 143460.337| 144848|(20,[0,1,2,4,6,7,...|\n",
      "|140376.0213| 140110|(20,[0,1,2,4,6,7,...|\n",
      "|135584.4182| 133747|(20,[0,1,2,4,6,7,...|\n",
      "|139674.7769| 140110|(20,[0,1,2,4,6,7,...|\n",
      "|140124.1834| 140110|(20,[0,1,2,4,6,,9...|\n",
      "|140116.5514| 140110|(20,[0,1,2,4,6,7,...|\n",
      "|140117.3931| 140110|(20,[0,1,2,,6,7,9...|\n",
      "|139605.6629| 140110|(20,[0,1,2,4,6,7,...|\n",
      "|139747.2042| 140110|(20,[0,1,2,4,6,7,...|\n",
      "|139588.9142| 140110|(20,[0,1,2,4,6,7,...|\n",
      "|131114.4066| 127124|(20,[0,2,4,6,7,9,...|\n",
      "|139709.4906| 140110|[200,0,0,0,0,33,3...|\n",
      "|139848.6024| 140110|[200,0,0,0,0,55,4...|\n",
      "|139781.0931| 140110|[200,0,0,0,0,53,3...|\n",
      "|137299.3299| 136016|[200,0,0,0,0,63,3...|\n",
      "|143404.0856| 144848|[200,0,0,0,0,73,3...|\n",
      "|139705.4732| 140110|[200,0,0,0,0,53,3...|\n",
      "|140141.7795| 140110|[200,0,0,0,0,83,3...|\n",
      "| 140055.965| 140110|[200,0,0,0,0,33,3...|\n",
      "|139540.8687| 140110|[200,0,0,0,0,53,3...|\n",
      "+-----------+-------+--------------------+\n",
      "only showing top 20 rows\n",
      "\n"
     ]
    }
   ],
   "source": [
    "Prediction_ridge=Line_ridgeM.transform(test_data)\n",
    "Prediction_ridge.select(\"prediction\",\"movieId\",\"features\").show()"
   ]
  },
  {
   "cell_type": "code",
   "execution_count": 10,
   "metadata": {},
   "outputs": [
    {
     "name": "stdout",
     "output_type": "stream",
     "text": [
      "RSME_ridge: 1.1348669055762207e-07\n"
     ]
    }
   ],
   "source": [
    "print(\"RSME_ridge:{}\".format(results_ridge.rootMeanSquaredError))"
   ]
  },
  {
   "cell_type": "code",
   "execution_count": 32,
   "metadata": {},
   "outputs": [
    {
     "name": "stdout",
     "output_type": "stream",
     "text": [
      "R2_ridge: 0.85357103515\n"
     ]
    }
   ],
   "source": [
    "print(\"R2_ridge:{}\".format(results_ridge.r2))"
   ]
  },
  {
   "cell_type": "code",
   "execution_count": 30,
   "metadata": {},
   "outputs": [
    {
     "name": "stdout",
     "output_type": "stream",
     "text": [
      "Coefficients_elastic: [81.8484815, 12.51484438, 1.2921696, 0.000134192187, -0.00175141183, 0.0548635977, 44.8428267, 87.1239747] Intercept_elastic: -61697.2282905\n"
     ]
    }
   ],
   "source": [
    "Line_elastic=LinearRegression(maxIter=10,regParam=0.3,elasticNetParam=0.8,labelCol='movieId')\n",
    "Line_elasticM=Line_elastic.fit(train_data)\n",
    "print(\"Coefficients_elastic:{}Intercept_elastic:{}\".FORMAT(Line_elasticM.coefficients,Line_elasticM.intercept))"
   ]
  },
  {
   "cell_type": "code",
   "execution_count": 26,
   "metadata": {},
   "outputs": [
    {
     "name": "stdout",
     "output_type": "stream",
     "text": [
      "RSME_elastic: 5.89027268447\n"
     ]
    }
   ],
   "source": [
    "print(\"RSME_elastic:{}\".format(results_elastic.rootMeanSquaredError))"
   ]
  },
  {
   "cell_type": "code",
   "execution_count": 27,
   "metadata": {},
   "outputs": [
    {
     "name": "stdout",
     "output_type": "stream",
     "text": [
      "R2_elastic: 0.242698839081\n"
     ]
    }
   ],
   "source": [
    "print(\"R2_elastic:{}\".format(results_elastic.r2))"
   ]
  },
  {
   "cell_type": "code",
   "execution_count": 37,
   "metadata": {},
   "outputs": [
    {
     "name": "stdout",
     "output_type": "stream",
     "text": [
      "+-----------+-------+--------------------+\n",
      "| prediction|movieId|            features|\n",
      "+-----------+-------+--------------------+\n",
      "|141054.3565| 144848|(20,[0,1,2,4,6,7,...|\n",
      "|140903.8063| 140110|(20,[0,1,2,4,6,7,...|\n",
      "|138772.5175| 133747|(20,[0,1,2,4,6,7,...|\n",
      "|138832.8988| 140110|(20,[0,1,2,4,6,7,...|\n",
      "|140138.1232| 140110|(20,[0,1,2,4,6,,9...|\n",
      "|140137.6531| 140110|(20,[0,1,2,4,6,7,...|\n",
      "|140118.4161| 140110|(20,[0,1,2,,6,7,9...|\n",
      "|138614.5707| 140110|(20,[0,1,2,4,6,7,...|\n",
      "|139030.3606| 140110|(20,[0,1,2,4,6,7,...|\n",
      "| 138569.861| 140110|(20,[0,1,2,4,6,7,...|\n",
      "|139081.1602| 127124|(20,[0,2,4,6,7,9,...|\n",
      "|138937.0973| 140110|[200,0,0,0,0,33,3...|\n",
      "|139330.8602| 140110|[200,0,0,0,0,55,4...|\n",
      "|139164.4574| 140110|[200,0,0,0,0,53,3...|\n",
      "| 139621.189| 136016|[200,0,0,0,0,63,3...|\n",
      "|140914.2196| 144848|[200,0,0,0,0,73,3...|\n",
      "|138908.2003| 140110|[200,0,0,0,0,53,3...|\n",
      "|140206.9053| 140110|[200,0,0,0,0,83,3...|\n",
      "|139965.3898| 140110|[200,0,0,0,0,33,3...|\n",
      "|138453.2881| 140110|[200,0,0,0,0,53,3...|\n",
      "+-----------+-------+--------------------+\n",
      "only showing top 20 rows\n",
      "\n"
     ]
    }
   ],
   "source": [
    "Prediction_elastic=Line_elasticM.transform(test_data)\n",
    "Prediction_elastic.select(\"prediction\",\"movieId\",\"features\").show()"
   ]
  },
  {
   "cell_type": "code",
   "execution_count": null,
   "metadata": {},
   "outputs": [],
   "source": []
  },
  {
   "cell_type": "code",
   "execution_count": null,
   "metadata": {},
   "outputs": [],
   "source": []
  },
  {
   "cell_type": "code",
   "execution_count": null,
   "metadata": {},
   "outputs": [],
   "source": []
  },
  {
   "cell_type": "code",
   "execution_count": null,
   "metadata": {},
   "outputs": [],
   "source": []
  }
 ],
 "metadata": {
  "kernelspec": {
   "display_name": "Python 3",
   "language": "python",
   "name": "python3"
  },
  "language_info": {
   "codemirror_mode": {
    "name": "ipython",
    "version": 3
   },
   "file_extension": ".py",
   "mimetype": "text/x-python",
   "name": "python",
   "nbconvert_exporter": "python",
   "pygments_lexer": "ipython3",
   "version": "3.5.2"
  }
 },
 "nbformat": 4,
 "nbformat_minor": 2
}
